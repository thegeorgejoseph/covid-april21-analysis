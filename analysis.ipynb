{
 "cells": [
  {
   "cell_type": "markdown",
   "id": "stainless-saskatchewan",
   "metadata": {},
   "source": [
    "# Importing the required libraries"
   ]
  },
  {
   "cell_type": "code",
   "execution_count": 1,
   "id": "hawaiian-wilderness",
   "metadata": {},
   "outputs": [],
   "source": [
    "import pandas as pd\n",
    "import numpy as np\n",
    "import seaborn as sns\n",
    "import matplotlib.pyplot as plt\n",
    "import plotly.express as px"
   ]
  },
  {
   "cell_type": "code",
   "execution_count": 2,
   "id": "ambient-newman",
   "metadata": {},
   "outputs": [],
   "source": [
    "df = pd.read_csv('data/owid-covid-latest.csv')"
   ]
  },
  {
   "cell_type": "code",
   "execution_count": 3,
   "id": "cardiac-passing",
   "metadata": {},
   "outputs": [
    {
     "name": "stdout",
     "output_type": "stream",
     "text": [
      "<class 'pandas.core.frame.DataFrame'>\n",
      "RangeIndex: 212 entries, 0 to 211\n",
      "Data columns (total 59 columns):\n",
      " #   Column                                 Non-Null Count  Dtype  \n",
      "---  ------                                 --------------  -----  \n",
      " 0   iso_code                               212 non-null    object \n",
      " 1   continent                              203 non-null    object \n",
      " 2   location                               212 non-null    object \n",
      " 3   last_updated_date                      212 non-null    object \n",
      " 4   total_cases                            199 non-null    float64\n",
      " 5   new_cases                              199 non-null    float64\n",
      " 6   new_cases_smoothed                     199 non-null    float64\n",
      " 7   total_deaths                           190 non-null    float64\n",
      " 8   new_deaths                             190 non-null    float64\n",
      " 9   new_deaths_smoothed                    199 non-null    float64\n",
      " 10  total_cases_per_million                198 non-null    float64\n",
      " 11  new_cases_per_million                  198 non-null    float64\n",
      " 12  new_cases_smoothed_per_million         198 non-null    float64\n",
      " 13  total_deaths_per_million               189 non-null    float64\n",
      " 14  new_deaths_per_million                 189 non-null    float64\n",
      " 15  new_deaths_smoothed_per_million        198 non-null    float64\n",
      " 16  reproduction_rate                      182 non-null    float64\n",
      " 17  icu_patients                           22 non-null     float64\n",
      " 18  icu_patients_per_million               22 non-null     float64\n",
      " 19  hosp_patients                          28 non-null     float64\n",
      " 20  hosp_patients_per_million              28 non-null     float64\n",
      " 21  weekly_icu_admissions                  14 non-null     float64\n",
      " 22  weekly_icu_admissions_per_million      14 non-null     float64\n",
      " 23  weekly_hosp_admissions                 20 non-null     float64\n",
      " 24  weekly_hosp_admissions_per_million     20 non-null     float64\n",
      " 25  new_tests                              104 non-null    float64\n",
      " 26  total_tests                            108 non-null    float64\n",
      " 27  total_tests_per_thousand               108 non-null    float64\n",
      " 28  new_tests_per_thousand                 104 non-null    float64\n",
      " 29  new_tests_smoothed                     113 non-null    float64\n",
      " 30  new_tests_smoothed_per_thousand        113 non-null    float64\n",
      " 31  positive_rate                          111 non-null    float64\n",
      " 32  tests_per_case                         111 non-null    float64\n",
      " 33  tests_units                            115 non-null    object \n",
      " 34  total_vaccinations                     166 non-null    float64\n",
      " 35  people_vaccinated                      155 non-null    float64\n",
      " 36  people_fully_vaccinated                107 non-null    float64\n",
      " 37  new_vaccinations                       120 non-null    float64\n",
      " 38  new_vaccinations_smoothed              164 non-null    float64\n",
      " 39  total_vaccinations_per_hundred         166 non-null    float64\n",
      " 40  people_vaccinated_per_hundred          155 non-null    float64\n",
      " 41  people_fully_vaccinated_per_hundred    107 non-null    float64\n",
      " 42  new_vaccinations_smoothed_per_million  164 non-null    float64\n",
      " 43  stringency_index                       165 non-null    float64\n",
      " 44  population                             210 non-null    float64\n",
      " 45  population_density                     195 non-null    float64\n",
      " 46  median_age                             184 non-null    float64\n",
      " 47  aged_65_older                          182 non-null    float64\n",
      " 48  aged_70_older                          183 non-null    float64\n",
      " 49  gdp_per_capita                         187 non-null    float64\n",
      " 50  extreme_poverty                        125 non-null    float64\n",
      " 51  cardiovasc_death_rate                  187 non-null    float64\n",
      " 52  diabetes_prevalence                    191 non-null    float64\n",
      " 53  female_smokers                         143 non-null    float64\n",
      " 54  male_smokers                           141 non-null    float64\n",
      " 55  handwashing_facilities                 95 non-null     float64\n",
      " 56  hospital_beds_per_thousand             167 non-null    float64\n",
      " 57  life_expectancy                        200 non-null    float64\n",
      " 58  human_development_index                186 non-null    float64\n",
      "dtypes: float64(54), object(5)\n",
      "memory usage: 97.8+ KB\n"
     ]
    }
   ],
   "source": [
    "df.info()"
   ]
  },
  {
   "cell_type": "code",
   "execution_count": 4,
   "id": "economic-generation",
   "metadata": {},
   "outputs": [
    {
     "data": {
      "text/html": [
       "<div>\n",
       "<style scoped>\n",
       "    .dataframe tbody tr th:only-of-type {\n",
       "        vertical-align: middle;\n",
       "    }\n",
       "\n",
       "    .dataframe tbody tr th {\n",
       "        vertical-align: top;\n",
       "    }\n",
       "\n",
       "    .dataframe thead th {\n",
       "        text-align: right;\n",
       "    }\n",
       "</style>\n",
       "<table border=\"1\" class=\"dataframe\">\n",
       "  <thead>\n",
       "    <tr style=\"text-align: right;\">\n",
       "      <th></th>\n",
       "      <th>iso_code</th>\n",
       "      <th>continent</th>\n",
       "      <th>location</th>\n",
       "      <th>last_updated_date</th>\n",
       "      <th>total_cases</th>\n",
       "      <th>new_cases</th>\n",
       "      <th>new_cases_smoothed</th>\n",
       "      <th>total_deaths</th>\n",
       "      <th>new_deaths</th>\n",
       "      <th>new_deaths_smoothed</th>\n",
       "      <th>...</th>\n",
       "      <th>gdp_per_capita</th>\n",
       "      <th>extreme_poverty</th>\n",
       "      <th>cardiovasc_death_rate</th>\n",
       "      <th>diabetes_prevalence</th>\n",
       "      <th>female_smokers</th>\n",
       "      <th>male_smokers</th>\n",
       "      <th>handwashing_facilities</th>\n",
       "      <th>hospital_beds_per_thousand</th>\n",
       "      <th>life_expectancy</th>\n",
       "      <th>human_development_index</th>\n",
       "    </tr>\n",
       "  </thead>\n",
       "  <tbody>\n",
       "    <tr>\n",
       "      <th>0</th>\n",
       "      <td>AFG</td>\n",
       "      <td>Asia</td>\n",
       "      <td>Afghanistan</td>\n",
       "      <td>2021-04-17</td>\n",
       "      <td>57721.0</td>\n",
       "      <td>109.0</td>\n",
       "      <td>82.429</td>\n",
       "      <td>2539.0</td>\n",
       "      <td>4.0</td>\n",
       "      <td>2.571</td>\n",
       "      <td>...</td>\n",
       "      <td>1803.987</td>\n",
       "      <td>NaN</td>\n",
       "      <td>597.029</td>\n",
       "      <td>9.59</td>\n",
       "      <td>NaN</td>\n",
       "      <td>NaN</td>\n",
       "      <td>37.746</td>\n",
       "      <td>0.50</td>\n",
       "      <td>64.83</td>\n",
       "      <td>0.511</td>\n",
       "    </tr>\n",
       "    <tr>\n",
       "      <th>1</th>\n",
       "      <td>OWID_AFR</td>\n",
       "      <td>NaN</td>\n",
       "      <td>Africa</td>\n",
       "      <td>2021-04-17</td>\n",
       "      <td>4422316.0</td>\n",
       "      <td>13363.0</td>\n",
       "      <td>11686.000</td>\n",
       "      <td>117646.0</td>\n",
       "      <td>280.0</td>\n",
       "      <td>317.714</td>\n",
       "      <td>...</td>\n",
       "      <td>NaN</td>\n",
       "      <td>NaN</td>\n",
       "      <td>NaN</td>\n",
       "      <td>NaN</td>\n",
       "      <td>NaN</td>\n",
       "      <td>NaN</td>\n",
       "      <td>NaN</td>\n",
       "      <td>NaN</td>\n",
       "      <td>NaN</td>\n",
       "      <td>NaN</td>\n",
       "    </tr>\n",
       "    <tr>\n",
       "      <th>2</th>\n",
       "      <td>ALB</td>\n",
       "      <td>Europe</td>\n",
       "      <td>Albania</td>\n",
       "      <td>2021-04-17</td>\n",
       "      <td>129456.0</td>\n",
       "      <td>149.0</td>\n",
       "      <td>185.857</td>\n",
       "      <td>2340.0</td>\n",
       "      <td>3.0</td>\n",
       "      <td>4.286</td>\n",
       "      <td>...</td>\n",
       "      <td>11803.431</td>\n",
       "      <td>1.1</td>\n",
       "      <td>304.195</td>\n",
       "      <td>10.08</td>\n",
       "      <td>7.1</td>\n",
       "      <td>51.2</td>\n",
       "      <td>NaN</td>\n",
       "      <td>2.89</td>\n",
       "      <td>78.57</td>\n",
       "      <td>0.795</td>\n",
       "    </tr>\n",
       "    <tr>\n",
       "      <th>3</th>\n",
       "      <td>DZA</td>\n",
       "      <td>Africa</td>\n",
       "      <td>Algeria</td>\n",
       "      <td>2021-04-17</td>\n",
       "      <td>119486.0</td>\n",
       "      <td>163.0</td>\n",
       "      <td>158.286</td>\n",
       "      <td>3152.0</td>\n",
       "      <td>4.0</td>\n",
       "      <td>3.714</td>\n",
       "      <td>...</td>\n",
       "      <td>13913.839</td>\n",
       "      <td>0.5</td>\n",
       "      <td>278.364</td>\n",
       "      <td>6.73</td>\n",
       "      <td>0.7</td>\n",
       "      <td>30.4</td>\n",
       "      <td>83.741</td>\n",
       "      <td>1.90</td>\n",
       "      <td>76.88</td>\n",
       "      <td>0.748</td>\n",
       "    </tr>\n",
       "    <tr>\n",
       "      <th>4</th>\n",
       "      <td>AND</td>\n",
       "      <td>Europe</td>\n",
       "      <td>Andorra</td>\n",
       "      <td>2021-04-17</td>\n",
       "      <td>12771.0</td>\n",
       "      <td>59.0</td>\n",
       "      <td>39.143</td>\n",
       "      <td>123.0</td>\n",
       "      <td>0.0</td>\n",
       "      <td>0.429</td>\n",
       "      <td>...</td>\n",
       "      <td>NaN</td>\n",
       "      <td>NaN</td>\n",
       "      <td>109.135</td>\n",
       "      <td>7.97</td>\n",
       "      <td>29.0</td>\n",
       "      <td>37.8</td>\n",
       "      <td>NaN</td>\n",
       "      <td>NaN</td>\n",
       "      <td>83.73</td>\n",
       "      <td>0.868</td>\n",
       "    </tr>\n",
       "    <tr>\n",
       "      <th>5</th>\n",
       "      <td>AGO</td>\n",
       "      <td>Africa</td>\n",
       "      <td>Angola</td>\n",
       "      <td>2021-04-17</td>\n",
       "      <td>24300.0</td>\n",
       "      <td>178.0</td>\n",
       "      <td>138.429</td>\n",
       "      <td>561.0</td>\n",
       "      <td>1.0</td>\n",
       "      <td>1.571</td>\n",
       "      <td>...</td>\n",
       "      <td>5819.495</td>\n",
       "      <td>NaN</td>\n",
       "      <td>276.045</td>\n",
       "      <td>3.94</td>\n",
       "      <td>NaN</td>\n",
       "      <td>NaN</td>\n",
       "      <td>26.664</td>\n",
       "      <td>NaN</td>\n",
       "      <td>61.15</td>\n",
       "      <td>0.581</td>\n",
       "    </tr>\n",
       "    <tr>\n",
       "      <th>6</th>\n",
       "      <td>AIA</td>\n",
       "      <td>North America</td>\n",
       "      <td>Anguilla</td>\n",
       "      <td>2021-04-12</td>\n",
       "      <td>NaN</td>\n",
       "      <td>NaN</td>\n",
       "      <td>NaN</td>\n",
       "      <td>NaN</td>\n",
       "      <td>NaN</td>\n",
       "      <td>NaN</td>\n",
       "      <td>...</td>\n",
       "      <td>NaN</td>\n",
       "      <td>NaN</td>\n",
       "      <td>NaN</td>\n",
       "      <td>NaN</td>\n",
       "      <td>NaN</td>\n",
       "      <td>NaN</td>\n",
       "      <td>NaN</td>\n",
       "      <td>NaN</td>\n",
       "      <td>81.88</td>\n",
       "      <td>NaN</td>\n",
       "    </tr>\n",
       "    <tr>\n",
       "      <th>7</th>\n",
       "      <td>ATG</td>\n",
       "      <td>North America</td>\n",
       "      <td>Antigua and Barbuda</td>\n",
       "      <td>2021-04-17</td>\n",
       "      <td>1216.0</td>\n",
       "      <td>3.0</td>\n",
       "      <td>2.714</td>\n",
       "      <td>31.0</td>\n",
       "      <td>0.0</td>\n",
       "      <td>0.143</td>\n",
       "      <td>...</td>\n",
       "      <td>21490.943</td>\n",
       "      <td>NaN</td>\n",
       "      <td>191.511</td>\n",
       "      <td>13.17</td>\n",
       "      <td>NaN</td>\n",
       "      <td>NaN</td>\n",
       "      <td>NaN</td>\n",
       "      <td>3.80</td>\n",
       "      <td>77.02</td>\n",
       "      <td>0.778</td>\n",
       "    </tr>\n",
       "    <tr>\n",
       "      <th>8</th>\n",
       "      <td>ARG</td>\n",
       "      <td>South America</td>\n",
       "      <td>Argentina</td>\n",
       "      <td>2021-04-17</td>\n",
       "      <td>2677747.0</td>\n",
       "      <td>19119.0</td>\n",
       "      <td>22921.000</td>\n",
       "      <td>59164.0</td>\n",
       "      <td>80.0</td>\n",
       "      <td>216.714</td>\n",
       "      <td>...</td>\n",
       "      <td>18933.907</td>\n",
       "      <td>0.6</td>\n",
       "      <td>191.032</td>\n",
       "      <td>5.50</td>\n",
       "      <td>16.2</td>\n",
       "      <td>27.7</td>\n",
       "      <td>NaN</td>\n",
       "      <td>5.00</td>\n",
       "      <td>76.67</td>\n",
       "      <td>0.845</td>\n",
       "    </tr>\n",
       "    <tr>\n",
       "      <th>9</th>\n",
       "      <td>ARM</td>\n",
       "      <td>Asia</td>\n",
       "      <td>Armenia</td>\n",
       "      <td>2021-04-17</td>\n",
       "      <td>207973.0</td>\n",
       "      <td>870.0</td>\n",
       "      <td>829.429</td>\n",
       "      <td>3859.0</td>\n",
       "      <td>24.0</td>\n",
       "      <td>19.857</td>\n",
       "      <td>...</td>\n",
       "      <td>8787.580</td>\n",
       "      <td>1.8</td>\n",
       "      <td>341.010</td>\n",
       "      <td>7.11</td>\n",
       "      <td>1.5</td>\n",
       "      <td>52.1</td>\n",
       "      <td>94.043</td>\n",
       "      <td>4.20</td>\n",
       "      <td>75.09</td>\n",
       "      <td>0.776</td>\n",
       "    </tr>\n",
       "  </tbody>\n",
       "</table>\n",
       "<p>10 rows × 59 columns</p>\n",
       "</div>"
      ],
      "text/plain": [
       "   iso_code      continent             location last_updated_date  \\\n",
       "0       AFG           Asia          Afghanistan        2021-04-17   \n",
       "1  OWID_AFR            NaN               Africa        2021-04-17   \n",
       "2       ALB         Europe              Albania        2021-04-17   \n",
       "3       DZA         Africa              Algeria        2021-04-17   \n",
       "4       AND         Europe              Andorra        2021-04-17   \n",
       "5       AGO         Africa               Angola        2021-04-17   \n",
       "6       AIA  North America             Anguilla        2021-04-12   \n",
       "7       ATG  North America  Antigua and Barbuda        2021-04-17   \n",
       "8       ARG  South America            Argentina        2021-04-17   \n",
       "9       ARM           Asia              Armenia        2021-04-17   \n",
       "\n",
       "   total_cases  new_cases  new_cases_smoothed  total_deaths  new_deaths  \\\n",
       "0      57721.0      109.0              82.429        2539.0         4.0   \n",
       "1    4422316.0    13363.0           11686.000      117646.0       280.0   \n",
       "2     129456.0      149.0             185.857        2340.0         3.0   \n",
       "3     119486.0      163.0             158.286        3152.0         4.0   \n",
       "4      12771.0       59.0              39.143         123.0         0.0   \n",
       "5      24300.0      178.0             138.429         561.0         1.0   \n",
       "6          NaN        NaN                 NaN           NaN         NaN   \n",
       "7       1216.0        3.0               2.714          31.0         0.0   \n",
       "8    2677747.0    19119.0           22921.000       59164.0        80.0   \n",
       "9     207973.0      870.0             829.429        3859.0        24.0   \n",
       "\n",
       "   new_deaths_smoothed  ...  gdp_per_capita  extreme_poverty  \\\n",
       "0                2.571  ...        1803.987              NaN   \n",
       "1              317.714  ...             NaN              NaN   \n",
       "2                4.286  ...       11803.431              1.1   \n",
       "3                3.714  ...       13913.839              0.5   \n",
       "4                0.429  ...             NaN              NaN   \n",
       "5                1.571  ...        5819.495              NaN   \n",
       "6                  NaN  ...             NaN              NaN   \n",
       "7                0.143  ...       21490.943              NaN   \n",
       "8              216.714  ...       18933.907              0.6   \n",
       "9               19.857  ...        8787.580              1.8   \n",
       "\n",
       "   cardiovasc_death_rate  diabetes_prevalence  female_smokers  male_smokers  \\\n",
       "0                597.029                 9.59             NaN           NaN   \n",
       "1                    NaN                  NaN             NaN           NaN   \n",
       "2                304.195                10.08             7.1          51.2   \n",
       "3                278.364                 6.73             0.7          30.4   \n",
       "4                109.135                 7.97            29.0          37.8   \n",
       "5                276.045                 3.94             NaN           NaN   \n",
       "6                    NaN                  NaN             NaN           NaN   \n",
       "7                191.511                13.17             NaN           NaN   \n",
       "8                191.032                 5.50            16.2          27.7   \n",
       "9                341.010                 7.11             1.5          52.1   \n",
       "\n",
       "   handwashing_facilities  hospital_beds_per_thousand  life_expectancy  \\\n",
       "0                  37.746                        0.50            64.83   \n",
       "1                     NaN                         NaN              NaN   \n",
       "2                     NaN                        2.89            78.57   \n",
       "3                  83.741                        1.90            76.88   \n",
       "4                     NaN                         NaN            83.73   \n",
       "5                  26.664                         NaN            61.15   \n",
       "6                     NaN                         NaN            81.88   \n",
       "7                     NaN                        3.80            77.02   \n",
       "8                     NaN                        5.00            76.67   \n",
       "9                  94.043                        4.20            75.09   \n",
       "\n",
       "   human_development_index  \n",
       "0                    0.511  \n",
       "1                      NaN  \n",
       "2                    0.795  \n",
       "3                    0.748  \n",
       "4                    0.868  \n",
       "5                    0.581  \n",
       "6                      NaN  \n",
       "7                    0.778  \n",
       "8                    0.845  \n",
       "9                    0.776  \n",
       "\n",
       "[10 rows x 59 columns]"
      ]
     },
     "execution_count": 4,
     "metadata": {},
     "output_type": "execute_result"
    }
   ],
   "source": [
    "df.head(10)"
   ]
  },
  {
   "cell_type": "markdown",
   "id": "monetary-burton",
   "metadata": {},
   "source": [
    "# Continent specific visualisations"
   ]
  },
  {
   "cell_type": "code",
   "execution_count": 5,
   "id": "convinced-queens",
   "metadata": {},
   "outputs": [],
   "source": [
    "continent_obj = df.groupby('continent')\n",
    "asia_df = continent_obj.get_group('Asia')\n",
    "na_df = continent_obj.get_group('North America')\n",
    "sa_df = continent_obj.get_group('South America')"
   ]
  },
  {
   "cell_type": "markdown",
   "id": "coral-prerequisite",
   "metadata": {},
   "source": [
    "# ASIA"
   ]
  },
  {
   "cell_type": "code",
   "execution_count": 6,
   "id": "serious-portable",
   "metadata": {},
   "outputs": [
    {
     "data": {
      "text/html": [
       "<div>\n",
       "<style scoped>\n",
       "    .dataframe tbody tr th:only-of-type {\n",
       "        vertical-align: middle;\n",
       "    }\n",
       "\n",
       "    .dataframe tbody tr th {\n",
       "        vertical-align: top;\n",
       "    }\n",
       "\n",
       "    .dataframe thead th {\n",
       "        text-align: right;\n",
       "    }\n",
       "</style>\n",
       "<table border=\"1\" class=\"dataframe\">\n",
       "  <thead>\n",
       "    <tr style=\"text-align: right;\">\n",
       "      <th></th>\n",
       "      <th>iso_code</th>\n",
       "      <th>continent</th>\n",
       "      <th>location</th>\n",
       "      <th>last_updated_date</th>\n",
       "      <th>total_cases</th>\n",
       "      <th>new_cases</th>\n",
       "      <th>new_cases_smoothed</th>\n",
       "      <th>total_deaths</th>\n",
       "      <th>new_deaths</th>\n",
       "      <th>new_deaths_smoothed</th>\n",
       "      <th>...</th>\n",
       "      <th>gdp_per_capita</th>\n",
       "      <th>extreme_poverty</th>\n",
       "      <th>cardiovasc_death_rate</th>\n",
       "      <th>diabetes_prevalence</th>\n",
       "      <th>female_smokers</th>\n",
       "      <th>male_smokers</th>\n",
       "      <th>handwashing_facilities</th>\n",
       "      <th>hospital_beds_per_thousand</th>\n",
       "      <th>life_expectancy</th>\n",
       "      <th>human_development_index</th>\n",
       "    </tr>\n",
       "  </thead>\n",
       "  <tbody>\n",
       "    <tr>\n",
       "      <th>0</th>\n",
       "      <td>AFG</td>\n",
       "      <td>Asia</td>\n",
       "      <td>Afghanistan</td>\n",
       "      <td>2021-04-17</td>\n",
       "      <td>57721.0</td>\n",
       "      <td>109.0</td>\n",
       "      <td>82.429</td>\n",
       "      <td>2539.0</td>\n",
       "      <td>4.0</td>\n",
       "      <td>2.571</td>\n",
       "      <td>...</td>\n",
       "      <td>1803.987</td>\n",
       "      <td>NaN</td>\n",
       "      <td>597.029</td>\n",
       "      <td>9.59</td>\n",
       "      <td>NaN</td>\n",
       "      <td>NaN</td>\n",
       "      <td>37.746</td>\n",
       "      <td>0.5</td>\n",
       "      <td>64.83</td>\n",
       "      <td>0.511</td>\n",
       "    </tr>\n",
       "    <tr>\n",
       "      <th>9</th>\n",
       "      <td>ARM</td>\n",
       "      <td>Asia</td>\n",
       "      <td>Armenia</td>\n",
       "      <td>2021-04-17</td>\n",
       "      <td>207973.0</td>\n",
       "      <td>870.0</td>\n",
       "      <td>829.429</td>\n",
       "      <td>3859.0</td>\n",
       "      <td>24.0</td>\n",
       "      <td>19.857</td>\n",
       "      <td>...</td>\n",
       "      <td>8787.580</td>\n",
       "      <td>1.8</td>\n",
       "      <td>341.010</td>\n",
       "      <td>7.11</td>\n",
       "      <td>1.5</td>\n",
       "      <td>52.1</td>\n",
       "      <td>94.043</td>\n",
       "      <td>4.2</td>\n",
       "      <td>75.09</td>\n",
       "      <td>0.776</td>\n",
       "    </tr>\n",
       "    <tr>\n",
       "      <th>13</th>\n",
       "      <td>AZE</td>\n",
       "      <td>Asia</td>\n",
       "      <td>Azerbaijan</td>\n",
       "      <td>2021-04-17</td>\n",
       "      <td>298522.0</td>\n",
       "      <td>2148.0</td>\n",
       "      <td>2134.714</td>\n",
       "      <td>4107.0</td>\n",
       "      <td>30.0</td>\n",
       "      <td>32.571</td>\n",
       "      <td>...</td>\n",
       "      <td>15847.419</td>\n",
       "      <td>NaN</td>\n",
       "      <td>559.812</td>\n",
       "      <td>7.11</td>\n",
       "      <td>0.3</td>\n",
       "      <td>42.5</td>\n",
       "      <td>83.241</td>\n",
       "      <td>4.7</td>\n",
       "      <td>73.00</td>\n",
       "      <td>0.756</td>\n",
       "    </tr>\n",
       "    <tr>\n",
       "      <th>15</th>\n",
       "      <td>BHR</td>\n",
       "      <td>Asia</td>\n",
       "      <td>Bahrain</td>\n",
       "      <td>2021-04-17</td>\n",
       "      <td>163113.0</td>\n",
       "      <td>1024.0</td>\n",
       "      <td>1101.571</td>\n",
       "      <td>588.0</td>\n",
       "      <td>7.0</td>\n",
       "      <td>4.857</td>\n",
       "      <td>...</td>\n",
       "      <td>43290.705</td>\n",
       "      <td>NaN</td>\n",
       "      <td>151.689</td>\n",
       "      <td>16.52</td>\n",
       "      <td>5.8</td>\n",
       "      <td>37.6</td>\n",
       "      <td>NaN</td>\n",
       "      <td>2.0</td>\n",
       "      <td>77.29</td>\n",
       "      <td>0.852</td>\n",
       "    </tr>\n",
       "    <tr>\n",
       "      <th>16</th>\n",
       "      <td>BGD</td>\n",
       "      <td>Asia</td>\n",
       "      <td>Bangladesh</td>\n",
       "      <td>2021-04-17</td>\n",
       "      <td>715252.0</td>\n",
       "      <td>3473.0</td>\n",
       "      <td>5187.857</td>\n",
       "      <td>10283.0</td>\n",
       "      <td>101.0</td>\n",
       "      <td>88.857</td>\n",
       "      <td>...</td>\n",
       "      <td>3523.984</td>\n",
       "      <td>14.8</td>\n",
       "      <td>298.003</td>\n",
       "      <td>8.38</td>\n",
       "      <td>1.0</td>\n",
       "      <td>44.7</td>\n",
       "      <td>34.808</td>\n",
       "      <td>0.8</td>\n",
       "      <td>72.59</td>\n",
       "      <td>0.632</td>\n",
       "    </tr>\n",
       "  </tbody>\n",
       "</table>\n",
       "<p>5 rows × 59 columns</p>\n",
       "</div>"
      ],
      "text/plain": [
       "   iso_code continent     location last_updated_date  total_cases  new_cases  \\\n",
       "0       AFG      Asia  Afghanistan        2021-04-17      57721.0      109.0   \n",
       "9       ARM      Asia      Armenia        2021-04-17     207973.0      870.0   \n",
       "13      AZE      Asia   Azerbaijan        2021-04-17     298522.0     2148.0   \n",
       "15      BHR      Asia      Bahrain        2021-04-17     163113.0     1024.0   \n",
       "16      BGD      Asia   Bangladesh        2021-04-17     715252.0     3473.0   \n",
       "\n",
       "    new_cases_smoothed  total_deaths  new_deaths  new_deaths_smoothed  ...  \\\n",
       "0               82.429        2539.0         4.0                2.571  ...   \n",
       "9              829.429        3859.0        24.0               19.857  ...   \n",
       "13            2134.714        4107.0        30.0               32.571  ...   \n",
       "15            1101.571         588.0         7.0                4.857  ...   \n",
       "16            5187.857       10283.0       101.0               88.857  ...   \n",
       "\n",
       "    gdp_per_capita  extreme_poverty  cardiovasc_death_rate  \\\n",
       "0         1803.987              NaN                597.029   \n",
       "9         8787.580              1.8                341.010   \n",
       "13       15847.419              NaN                559.812   \n",
       "15       43290.705              NaN                151.689   \n",
       "16        3523.984             14.8                298.003   \n",
       "\n",
       "    diabetes_prevalence  female_smokers  male_smokers  handwashing_facilities  \\\n",
       "0                  9.59             NaN           NaN                  37.746   \n",
       "9                  7.11             1.5          52.1                  94.043   \n",
       "13                 7.11             0.3          42.5                  83.241   \n",
       "15                16.52             5.8          37.6                     NaN   \n",
       "16                 8.38             1.0          44.7                  34.808   \n",
       "\n",
       "    hospital_beds_per_thousand  life_expectancy  human_development_index  \n",
       "0                          0.5            64.83                    0.511  \n",
       "9                          4.2            75.09                    0.776  \n",
       "13                         4.7            73.00                    0.756  \n",
       "15                         2.0            77.29                    0.852  \n",
       "16                         0.8            72.59                    0.632  \n",
       "\n",
       "[5 rows x 59 columns]"
      ]
     },
     "execution_count": 6,
     "metadata": {},
     "output_type": "execute_result"
    }
   ],
   "source": [
    "asia_df.head()"
   ]
  },
  {
   "cell_type": "code",
   "execution_count": 7,
   "id": "funny-relief",
   "metadata": {},
   "outputs": [
    {
     "name": "stderr",
     "output_type": "stream",
     "text": [
      "/Users/thegeorgejoseph/opt/anaconda3/envs/proton/lib/python3.8/site-packages/pandas/core/frame.py:4167: SettingWithCopyWarning: \n",
      "A value is trying to be set on a copy of a slice from a DataFrame\n",
      "\n",
      "See the caveats in the documentation: https://pandas.pydata.org/pandas-docs/stable/user_guide/indexing.html#returning-a-view-versus-a-copy\n",
      "  return super().drop(\n"
     ]
    }
   ],
   "source": [
    "asia_df.drop(['last_updated_date','new_cases_smoothed','new_deaths_smoothed','new_cases_smoothed_per_million','new_deaths_smoothed_per_million','icu_patients','hosp_patients','weekly_icu_admissions','weekly_hosp_admissions','new_tests','new_tests_per_thousand','new_tests_smoothed','new_tests_smoothed_per_thousand','new_vaccinations','new_vaccinations_smoothed','total_vaccinations_per_hundred','people_vaccinated_per_hundred','people_fully_vaccinated_per_hundred','new_vaccinations_smoothed_per_million'],axis=1,inplace=True)"
   ]
  },
  {
   "cell_type": "markdown",
   "id": "final-chair",
   "metadata": {},
   "source": [
    "# Dealing with Null Data"
   ]
  },
  {
   "cell_type": "code",
   "execution_count": 21,
   "id": "precise-segment",
   "metadata": {},
   "outputs": [
    {
     "name": "stderr",
     "output_type": "stream",
     "text": [
      "<ipython-input-21-352b2716de83>:3: SettingWithCopyWarning:\n",
      "\n",
      "\n",
      "A value is trying to be set on a copy of a slice from a DataFrame\n",
      "\n",
      "See the caveats in the documentation: https://pandas.pydata.org/pandas-docs/stable/user_guide/indexing.html#returning-a-view-versus-a-copy\n",
      "\n"
     ]
    }
   ],
   "source": [
    "asia_df.shape\n",
    "#logic \n",
    "asia_df.dropna(axis=0,subset=['total_cases','total_deaths'],inplace=True,how='any')\n",
    "df.dropna(axis=0,subset=['total_cases','total_deaths'],inplace=True,how='any')"
   ]
  },
  {
   "cell_type": "code",
   "execution_count": 18,
   "id": "engaged-attachment",
   "metadata": {},
   "outputs": [
    {
     "name": "stdout",
     "output_type": "stream",
     "text": [
      "Index(['iso_code', 'continent', 'location', 'total_cases', 'new_cases',\n",
      "       'total_deaths', 'new_deaths', 'total_cases_per_million',\n",
      "       'new_cases_per_million', 'total_deaths_per_million',\n",
      "       'new_deaths_per_million', 'reproduction_rate',\n",
      "       'icu_patients_per_million', 'hosp_patients_per_million',\n",
      "       'weekly_icu_admissions_per_million',\n",
      "       'weekly_hosp_admissions_per_million', 'total_tests',\n",
      "       'total_tests_per_thousand', 'positive_rate', 'tests_per_case',\n",
      "       'tests_units', 'total_vaccinations', 'people_vaccinated',\n",
      "       'people_fully_vaccinated', 'stringency_index', 'population',\n",
      "       'population_density', 'median_age', 'aged_65_older', 'aged_70_older',\n",
      "       'gdp_per_capita', 'extreme_poverty', 'cardiovasc_death_rate',\n",
      "       'diabetes_prevalence', 'female_smokers', 'male_smokers',\n",
      "       'handwashing_facilities', 'hospital_beds_per_thousand',\n",
      "       'life_expectancy', 'human_development_index'],\n",
      "      dtype='object')\n"
     ]
    }
   ],
   "source": [
    "print(asia_df.columns)"
   ]
  },
  {
   "cell_type": "markdown",
   "id": "periodic-jewelry",
   "metadata": {},
   "source": [
    "# Bubble Maps"
   ]
  },
  {
   "cell_type": "code",
   "execution_count": 22,
   "id": "designing-credit",
   "metadata": {},
   "outputs": [
    {
     "data": {
      "application/vnd.plotly.v1+json": {
       "config": {
        "plotlyServerURL": "https://plot.ly"
       },
       "data": [
        {
         "geo": "geo",
         "hovertemplate": "total_cases=%{marker.size}<br>iso_code=%{location}<extra></extra>",
         "legendgroup": "",
         "locations": [
          "AFG",
          "OWID_AFR",
          "ALB",
          "DZA",
          "AND",
          "AGO",
          "ATG",
          "ARG",
          "ARM",
          "OWID_ASI",
          "AUS",
          "AUT",
          "AZE",
          "BHS",
          "BHR",
          "BGD",
          "BRB",
          "BLR",
          "BEL",
          "BLZ",
          "BEN",
          "BTN",
          "BOL",
          "BIH",
          "BWA",
          "BRA",
          "BRN",
          "BGR",
          "BFA",
          "BDI",
          "KHM",
          "CMR",
          "CAN",
          "CPV",
          "CAF",
          "TCD",
          "CHL",
          "CHN",
          "COL",
          "COM",
          "COG",
          "CRI",
          "CIV",
          "HRV",
          "CUB",
          "CYP",
          "CZE",
          "COD",
          "DNK",
          "DJI",
          "DOM",
          "ECU",
          "EGY",
          "SLV",
          "GNQ",
          "ERI",
          "EST",
          "SWZ",
          "ETH",
          "OWID_EUR",
          "OWID_EUN",
          "FJI",
          "FIN",
          "FRA",
          "GAB",
          "GMB",
          "GEO",
          "DEU",
          "GHA",
          "GRC",
          "GRD",
          "GTM",
          "GIN",
          "GNB",
          "GUY",
          "HTI",
          "HND",
          "HUN",
          "ISL",
          "IND",
          "IDN",
          "OWID_INT",
          "IRN",
          "IRQ",
          "IRL",
          "ISR",
          "ITA",
          "JAM",
          "JPN",
          "JOR",
          "KAZ",
          "KEN",
          "OWID_KOS",
          "KWT",
          "KGZ",
          "LVA",
          "LBN",
          "LSO",
          "LBR",
          "LBY",
          "LIE",
          "LTU",
          "LUX",
          "MDG",
          "MWI",
          "MYS",
          "MDV",
          "MLI",
          "MLT",
          "MRT",
          "MUS",
          "MEX",
          "MDA",
          "MCO",
          "MNG",
          "MNE",
          "MAR",
          "MOZ",
          "MMR",
          "NAM",
          "NPL",
          "NLD",
          "NZL",
          "NIC",
          "NER",
          "NGA",
          "OWID_NAM",
          "MKD",
          "NOR",
          "OWID_OCE",
          "OMN",
          "PAK",
          "PSE",
          "PAN",
          "PNG",
          "PRY",
          "PER",
          "PHL",
          "POL",
          "PRT",
          "QAT",
          "ROU",
          "RUS",
          "RWA",
          "LCA",
          "VCT",
          "SMR",
          "STP",
          "SAU",
          "SEN",
          "SRB",
          "SYC",
          "SLE",
          "SGP",
          "SVK",
          "SVN",
          "SOM",
          "ZAF",
          "OWID_SAM",
          "KOR",
          "SSD",
          "ESP",
          "LKA",
          "SDN",
          "SUR",
          "SWE",
          "CHE",
          "SYR",
          "TWN",
          "TJK",
          "TZA",
          "THA",
          "TLS",
          "TGO",
          "TTO",
          "TUN",
          "TUR",
          "UGA",
          "UKR",
          "ARE",
          "GBR",
          "USA",
          "URY",
          "UZB",
          "VEN",
          "VNM",
          "OWID_WRL",
          "YEM",
          "ZMB",
          "ZWE"
         ],
         "marker": {
          "color": "#636efa",
          "size": [
           57721,
           4422316,
           129456,
           119486,
           12771,
           24300,
           1216,
           2677747,
           207973,
           33403831,
           29519,
           591347,
           298522,
           9634,
           163113,
           715252,
           3773,
           342923,
           947000,
           12538,
           7611,
           952,
           287360,
           188994,
           44075,
           13900091,
           221,
           385963,
           13114,
           3477,
           5771,
           64809,
           1121162,
           19975,
           5728,
           4691,
           1117348,
           102201,
           2636076,
           3815,
           10084,
           228577,
           45519,
           306225,
           92474,
           55407,
           1600341,
           28894,
           242424,
           10412,
           260627,
           358157,
           215484,
           67404,
           7259,
           3491,
           117011,
           18415,
           240236,
           42981282,
           29271952,
           72,
           83633,
           5321176,
           21858,
           5720,
           294540,
           3154305,
           91663,
           313444,
           155,
           212307,
           21460,
           3710,
           11762,
           12885,
           200259,
           746802,
           6286,
           14788003,
           1599763,
           721,
           2215445,
           970987,
           243238,
           836883,
           3857443,
           43684,
           531109,
           683466,
           338764,
           151287,
           100329,
           255860,
           91639,
           110997,
           508503,
           10709,
           2042,
           171131,
           2804,
           232829,
           64746,
           31617,
           33919,
           372859,
           26145,
           12980,
           29927,
           18121,
           1203,
           2304096,
           245494,
           2395,
           21995,
           95377,
           505447,
           69134,
           142619,
           46515,
           283658,
           1419871,
           2595,
           6778,
           5116,
           164207,
           36581414,
           146733,
           107144,
           41560,
           176668,
           756285,
           279753,
           360597,
           9343,
           248364,
           1697626,
           926052,
           2675874,
           830560,
           195757,
           1027039,
           4640537,
           23866,
           4401,
           1819,
           5026,
           2275,
           404054,
           39731,
           660299,
           4875,
           4020,
           60808,
           375336,
           231593,
           12837,
           1565680,
           23288379,
           114115,
           10432,
           3407283,
           96354,
           33022,
           9545,
           900138,
           632399,
           21004,
           1072,
           13308,
           509,
           40585,
           1236,
           12496,
           8806,
           283976,
           4212645,
           41340,
           1989160,
           495224,
           4401176,
           31628013,
           162400,
           86338,
           181903,
           2781,
           140719503,
           5770,
           90844,
           37699
          ],
          "sizemode": "area",
          "sizeref": 351798.7575,
          "symbol": "circle"
         },
         "mode": "markers",
         "name": "",
         "showlegend": false,
         "type": "scattergeo"
        }
       ],
       "layout": {
        "geo": {
         "center": {},
         "domain": {
          "x": [
           0,
           1
          ],
          "y": [
           0,
           1
          ]
         }
        },
        "legend": {
         "itemsizing": "constant",
         "tracegroupgap": 0
        },
        "margin": {
         "t": 60
        },
        "template": {
         "data": {
          "bar": [
           {
            "error_x": {
             "color": "#2a3f5f"
            },
            "error_y": {
             "color": "#2a3f5f"
            },
            "marker": {
             "line": {
              "color": "#E5ECF6",
              "width": 0.5
             }
            },
            "type": "bar"
           }
          ],
          "barpolar": [
           {
            "marker": {
             "line": {
              "color": "#E5ECF6",
              "width": 0.5
             }
            },
            "type": "barpolar"
           }
          ],
          "carpet": [
           {
            "aaxis": {
             "endlinecolor": "#2a3f5f",
             "gridcolor": "white",
             "linecolor": "white",
             "minorgridcolor": "white",
             "startlinecolor": "#2a3f5f"
            },
            "baxis": {
             "endlinecolor": "#2a3f5f",
             "gridcolor": "white",
             "linecolor": "white",
             "minorgridcolor": "white",
             "startlinecolor": "#2a3f5f"
            },
            "type": "carpet"
           }
          ],
          "choropleth": [
           {
            "colorbar": {
             "outlinewidth": 0,
             "ticks": ""
            },
            "type": "choropleth"
           }
          ],
          "contour": [
           {
            "colorbar": {
             "outlinewidth": 0,
             "ticks": ""
            },
            "colorscale": [
             [
              0,
              "#0d0887"
             ],
             [
              0.1111111111111111,
              "#46039f"
             ],
             [
              0.2222222222222222,
              "#7201a8"
             ],
             [
              0.3333333333333333,
              "#9c179e"
             ],
             [
              0.4444444444444444,
              "#bd3786"
             ],
             [
              0.5555555555555556,
              "#d8576b"
             ],
             [
              0.6666666666666666,
              "#ed7953"
             ],
             [
              0.7777777777777778,
              "#fb9f3a"
             ],
             [
              0.8888888888888888,
              "#fdca26"
             ],
             [
              1,
              "#f0f921"
             ]
            ],
            "type": "contour"
           }
          ],
          "contourcarpet": [
           {
            "colorbar": {
             "outlinewidth": 0,
             "ticks": ""
            },
            "type": "contourcarpet"
           }
          ],
          "heatmap": [
           {
            "colorbar": {
             "outlinewidth": 0,
             "ticks": ""
            },
            "colorscale": [
             [
              0,
              "#0d0887"
             ],
             [
              0.1111111111111111,
              "#46039f"
             ],
             [
              0.2222222222222222,
              "#7201a8"
             ],
             [
              0.3333333333333333,
              "#9c179e"
             ],
             [
              0.4444444444444444,
              "#bd3786"
             ],
             [
              0.5555555555555556,
              "#d8576b"
             ],
             [
              0.6666666666666666,
              "#ed7953"
             ],
             [
              0.7777777777777778,
              "#fb9f3a"
             ],
             [
              0.8888888888888888,
              "#fdca26"
             ],
             [
              1,
              "#f0f921"
             ]
            ],
            "type": "heatmap"
           }
          ],
          "heatmapgl": [
           {
            "colorbar": {
             "outlinewidth": 0,
             "ticks": ""
            },
            "colorscale": [
             [
              0,
              "#0d0887"
             ],
             [
              0.1111111111111111,
              "#46039f"
             ],
             [
              0.2222222222222222,
              "#7201a8"
             ],
             [
              0.3333333333333333,
              "#9c179e"
             ],
             [
              0.4444444444444444,
              "#bd3786"
             ],
             [
              0.5555555555555556,
              "#d8576b"
             ],
             [
              0.6666666666666666,
              "#ed7953"
             ],
             [
              0.7777777777777778,
              "#fb9f3a"
             ],
             [
              0.8888888888888888,
              "#fdca26"
             ],
             [
              1,
              "#f0f921"
             ]
            ],
            "type": "heatmapgl"
           }
          ],
          "histogram": [
           {
            "marker": {
             "colorbar": {
              "outlinewidth": 0,
              "ticks": ""
             }
            },
            "type": "histogram"
           }
          ],
          "histogram2d": [
           {
            "colorbar": {
             "outlinewidth": 0,
             "ticks": ""
            },
            "colorscale": [
             [
              0,
              "#0d0887"
             ],
             [
              0.1111111111111111,
              "#46039f"
             ],
             [
              0.2222222222222222,
              "#7201a8"
             ],
             [
              0.3333333333333333,
              "#9c179e"
             ],
             [
              0.4444444444444444,
              "#bd3786"
             ],
             [
              0.5555555555555556,
              "#d8576b"
             ],
             [
              0.6666666666666666,
              "#ed7953"
             ],
             [
              0.7777777777777778,
              "#fb9f3a"
             ],
             [
              0.8888888888888888,
              "#fdca26"
             ],
             [
              1,
              "#f0f921"
             ]
            ],
            "type": "histogram2d"
           }
          ],
          "histogram2dcontour": [
           {
            "colorbar": {
             "outlinewidth": 0,
             "ticks": ""
            },
            "colorscale": [
             [
              0,
              "#0d0887"
             ],
             [
              0.1111111111111111,
              "#46039f"
             ],
             [
              0.2222222222222222,
              "#7201a8"
             ],
             [
              0.3333333333333333,
              "#9c179e"
             ],
             [
              0.4444444444444444,
              "#bd3786"
             ],
             [
              0.5555555555555556,
              "#d8576b"
             ],
             [
              0.6666666666666666,
              "#ed7953"
             ],
             [
              0.7777777777777778,
              "#fb9f3a"
             ],
             [
              0.8888888888888888,
              "#fdca26"
             ],
             [
              1,
              "#f0f921"
             ]
            ],
            "type": "histogram2dcontour"
           }
          ],
          "mesh3d": [
           {
            "colorbar": {
             "outlinewidth": 0,
             "ticks": ""
            },
            "type": "mesh3d"
           }
          ],
          "parcoords": [
           {
            "line": {
             "colorbar": {
              "outlinewidth": 0,
              "ticks": ""
             }
            },
            "type": "parcoords"
           }
          ],
          "pie": [
           {
            "automargin": true,
            "type": "pie"
           }
          ],
          "scatter": [
           {
            "marker": {
             "colorbar": {
              "outlinewidth": 0,
              "ticks": ""
             }
            },
            "type": "scatter"
           }
          ],
          "scatter3d": [
           {
            "line": {
             "colorbar": {
              "outlinewidth": 0,
              "ticks": ""
             }
            },
            "marker": {
             "colorbar": {
              "outlinewidth": 0,
              "ticks": ""
             }
            },
            "type": "scatter3d"
           }
          ],
          "scattercarpet": [
           {
            "marker": {
             "colorbar": {
              "outlinewidth": 0,
              "ticks": ""
             }
            },
            "type": "scattercarpet"
           }
          ],
          "scattergeo": [
           {
            "marker": {
             "colorbar": {
              "outlinewidth": 0,
              "ticks": ""
             }
            },
            "type": "scattergeo"
           }
          ],
          "scattergl": [
           {
            "marker": {
             "colorbar": {
              "outlinewidth": 0,
              "ticks": ""
             }
            },
            "type": "scattergl"
           }
          ],
          "scattermapbox": [
           {
            "marker": {
             "colorbar": {
              "outlinewidth": 0,
              "ticks": ""
             }
            },
            "type": "scattermapbox"
           }
          ],
          "scatterpolar": [
           {
            "marker": {
             "colorbar": {
              "outlinewidth": 0,
              "ticks": ""
             }
            },
            "type": "scatterpolar"
           }
          ],
          "scatterpolargl": [
           {
            "marker": {
             "colorbar": {
              "outlinewidth": 0,
              "ticks": ""
             }
            },
            "type": "scatterpolargl"
           }
          ],
          "scatterternary": [
           {
            "marker": {
             "colorbar": {
              "outlinewidth": 0,
              "ticks": ""
             }
            },
            "type": "scatterternary"
           }
          ],
          "surface": [
           {
            "colorbar": {
             "outlinewidth": 0,
             "ticks": ""
            },
            "colorscale": [
             [
              0,
              "#0d0887"
             ],
             [
              0.1111111111111111,
              "#46039f"
             ],
             [
              0.2222222222222222,
              "#7201a8"
             ],
             [
              0.3333333333333333,
              "#9c179e"
             ],
             [
              0.4444444444444444,
              "#bd3786"
             ],
             [
              0.5555555555555556,
              "#d8576b"
             ],
             [
              0.6666666666666666,
              "#ed7953"
             ],
             [
              0.7777777777777778,
              "#fb9f3a"
             ],
             [
              0.8888888888888888,
              "#fdca26"
             ],
             [
              1,
              "#f0f921"
             ]
            ],
            "type": "surface"
           }
          ],
          "table": [
           {
            "cells": {
             "fill": {
              "color": "#EBF0F8"
             },
             "line": {
              "color": "white"
             }
            },
            "header": {
             "fill": {
              "color": "#C8D4E3"
             },
             "line": {
              "color": "white"
             }
            },
            "type": "table"
           }
          ]
         },
         "layout": {
          "annotationdefaults": {
           "arrowcolor": "#2a3f5f",
           "arrowhead": 0,
           "arrowwidth": 1
          },
          "autotypenumbers": "strict",
          "coloraxis": {
           "colorbar": {
            "outlinewidth": 0,
            "ticks": ""
           }
          },
          "colorscale": {
           "diverging": [
            [
             0,
             "#8e0152"
            ],
            [
             0.1,
             "#c51b7d"
            ],
            [
             0.2,
             "#de77ae"
            ],
            [
             0.3,
             "#f1b6da"
            ],
            [
             0.4,
             "#fde0ef"
            ],
            [
             0.5,
             "#f7f7f7"
            ],
            [
             0.6,
             "#e6f5d0"
            ],
            [
             0.7,
             "#b8e186"
            ],
            [
             0.8,
             "#7fbc41"
            ],
            [
             0.9,
             "#4d9221"
            ],
            [
             1,
             "#276419"
            ]
           ],
           "sequential": [
            [
             0,
             "#0d0887"
            ],
            [
             0.1111111111111111,
             "#46039f"
            ],
            [
             0.2222222222222222,
             "#7201a8"
            ],
            [
             0.3333333333333333,
             "#9c179e"
            ],
            [
             0.4444444444444444,
             "#bd3786"
            ],
            [
             0.5555555555555556,
             "#d8576b"
            ],
            [
             0.6666666666666666,
             "#ed7953"
            ],
            [
             0.7777777777777778,
             "#fb9f3a"
            ],
            [
             0.8888888888888888,
             "#fdca26"
            ],
            [
             1,
             "#f0f921"
            ]
           ],
           "sequentialminus": [
            [
             0,
             "#0d0887"
            ],
            [
             0.1111111111111111,
             "#46039f"
            ],
            [
             0.2222222222222222,
             "#7201a8"
            ],
            [
             0.3333333333333333,
             "#9c179e"
            ],
            [
             0.4444444444444444,
             "#bd3786"
            ],
            [
             0.5555555555555556,
             "#d8576b"
            ],
            [
             0.6666666666666666,
             "#ed7953"
            ],
            [
             0.7777777777777778,
             "#fb9f3a"
            ],
            [
             0.8888888888888888,
             "#fdca26"
            ],
            [
             1,
             "#f0f921"
            ]
           ]
          },
          "colorway": [
           "#636efa",
           "#EF553B",
           "#00cc96",
           "#ab63fa",
           "#FFA15A",
           "#19d3f3",
           "#FF6692",
           "#B6E880",
           "#FF97FF",
           "#FECB52"
          ],
          "font": {
           "color": "#2a3f5f"
          },
          "geo": {
           "bgcolor": "white",
           "lakecolor": "white",
           "landcolor": "#E5ECF6",
           "showlakes": true,
           "showland": true,
           "subunitcolor": "white"
          },
          "hoverlabel": {
           "align": "left"
          },
          "hovermode": "closest",
          "mapbox": {
           "style": "light"
          },
          "paper_bgcolor": "white",
          "plot_bgcolor": "#E5ECF6",
          "polar": {
           "angularaxis": {
            "gridcolor": "white",
            "linecolor": "white",
            "ticks": ""
           },
           "bgcolor": "#E5ECF6",
           "radialaxis": {
            "gridcolor": "white",
            "linecolor": "white",
            "ticks": ""
           }
          },
          "scene": {
           "xaxis": {
            "backgroundcolor": "#E5ECF6",
            "gridcolor": "white",
            "gridwidth": 2,
            "linecolor": "white",
            "showbackground": true,
            "ticks": "",
            "zerolinecolor": "white"
           },
           "yaxis": {
            "backgroundcolor": "#E5ECF6",
            "gridcolor": "white",
            "gridwidth": 2,
            "linecolor": "white",
            "showbackground": true,
            "ticks": "",
            "zerolinecolor": "white"
           },
           "zaxis": {
            "backgroundcolor": "#E5ECF6",
            "gridcolor": "white",
            "gridwidth": 2,
            "linecolor": "white",
            "showbackground": true,
            "ticks": "",
            "zerolinecolor": "white"
           }
          },
          "shapedefaults": {
           "line": {
            "color": "#2a3f5f"
           }
          },
          "ternary": {
           "aaxis": {
            "gridcolor": "white",
            "linecolor": "white",
            "ticks": ""
           },
           "baxis": {
            "gridcolor": "white",
            "linecolor": "white",
            "ticks": ""
           },
           "bgcolor": "#E5ECF6",
           "caxis": {
            "gridcolor": "white",
            "linecolor": "white",
            "ticks": ""
           }
          },
          "title": {
           "x": 0.05
          },
          "xaxis": {
           "automargin": true,
           "gridcolor": "white",
           "linecolor": "white",
           "ticks": "",
           "title": {
            "standoff": 15
           },
           "zerolinecolor": "white",
           "zerolinewidth": 2
          },
          "yaxis": {
           "automargin": true,
           "gridcolor": "white",
           "linecolor": "white",
           "ticks": "",
           "title": {
            "standoff": 15
           },
           "zerolinecolor": "white",
           "zerolinewidth": 2
          }
         }
        }
       }
      },
      "text/html": [
       "<div>                            <div id=\"1229d70d-372b-494a-b0b1-a3a228f78b2d\" class=\"plotly-graph-div\" style=\"height:525px; width:100%;\"></div>            <script type=\"text/javascript\">                require([\"plotly\"], function(Plotly) {                    window.PLOTLYENV=window.PLOTLYENV || {};                                    if (document.getElementById(\"1229d70d-372b-494a-b0b1-a3a228f78b2d\")) {                    Plotly.newPlot(                        \"1229d70d-372b-494a-b0b1-a3a228f78b2d\",                        [{\"geo\": \"geo\", \"hovertemplate\": \"total_cases=%{marker.size}<br>iso_code=%{location}<extra></extra>\", \"legendgroup\": \"\", \"locations\": [\"AFG\", \"OWID_AFR\", \"ALB\", \"DZA\", \"AND\", \"AGO\", \"ATG\", \"ARG\", \"ARM\", \"OWID_ASI\", \"AUS\", \"AUT\", \"AZE\", \"BHS\", \"BHR\", \"BGD\", \"BRB\", \"BLR\", \"BEL\", \"BLZ\", \"BEN\", \"BTN\", \"BOL\", \"BIH\", \"BWA\", \"BRA\", \"BRN\", \"BGR\", \"BFA\", \"BDI\", \"KHM\", \"CMR\", \"CAN\", \"CPV\", \"CAF\", \"TCD\", \"CHL\", \"CHN\", \"COL\", \"COM\", \"COG\", \"CRI\", \"CIV\", \"HRV\", \"CUB\", \"CYP\", \"CZE\", \"COD\", \"DNK\", \"DJI\", \"DOM\", \"ECU\", \"EGY\", \"SLV\", \"GNQ\", \"ERI\", \"EST\", \"SWZ\", \"ETH\", \"OWID_EUR\", \"OWID_EUN\", \"FJI\", \"FIN\", \"FRA\", \"GAB\", \"GMB\", \"GEO\", \"DEU\", \"GHA\", \"GRC\", \"GRD\", \"GTM\", \"GIN\", \"GNB\", \"GUY\", \"HTI\", \"HND\", \"HUN\", \"ISL\", \"IND\", \"IDN\", \"OWID_INT\", \"IRN\", \"IRQ\", \"IRL\", \"ISR\", \"ITA\", \"JAM\", \"JPN\", \"JOR\", \"KAZ\", \"KEN\", \"OWID_KOS\", \"KWT\", \"KGZ\", \"LVA\", \"LBN\", \"LSO\", \"LBR\", \"LBY\", \"LIE\", \"LTU\", \"LUX\", \"MDG\", \"MWI\", \"MYS\", \"MDV\", \"MLI\", \"MLT\", \"MRT\", \"MUS\", \"MEX\", \"MDA\", \"MCO\", \"MNG\", \"MNE\", \"MAR\", \"MOZ\", \"MMR\", \"NAM\", \"NPL\", \"NLD\", \"NZL\", \"NIC\", \"NER\", \"NGA\", \"OWID_NAM\", \"MKD\", \"NOR\", \"OWID_OCE\", \"OMN\", \"PAK\", \"PSE\", \"PAN\", \"PNG\", \"PRY\", \"PER\", \"PHL\", \"POL\", \"PRT\", \"QAT\", \"ROU\", \"RUS\", \"RWA\", \"LCA\", \"VCT\", \"SMR\", \"STP\", \"SAU\", \"SEN\", \"SRB\", \"SYC\", \"SLE\", \"SGP\", \"SVK\", \"SVN\", \"SOM\", \"ZAF\", \"OWID_SAM\", \"KOR\", \"SSD\", \"ESP\", \"LKA\", \"SDN\", \"SUR\", \"SWE\", \"CHE\", \"SYR\", \"TWN\", \"TJK\", \"TZA\", \"THA\", \"TLS\", \"TGO\", \"TTO\", \"TUN\", \"TUR\", \"UGA\", \"UKR\", \"ARE\", \"GBR\", \"USA\", \"URY\", \"UZB\", \"VEN\", \"VNM\", \"OWID_WRL\", \"YEM\", \"ZMB\", \"ZWE\"], \"marker\": {\"color\": \"#636efa\", \"size\": [57721.0, 4422316.0, 129456.0, 119486.0, 12771.0, 24300.0, 1216.0, 2677747.0, 207973.0, 33403831.0, 29519.0, 591347.0, 298522.0, 9634.0, 163113.0, 715252.0, 3773.0, 342923.0, 947000.0, 12538.0, 7611.0, 952.0, 287360.0, 188994.0, 44075.0, 13900091.0, 221.0, 385963.0, 13114.0, 3477.0, 5771.0, 64809.0, 1121162.0, 19975.0, 5728.0, 4691.0, 1117348.0, 102201.0, 2636076.0, 3815.0, 10084.0, 228577.0, 45519.0, 306225.0, 92474.0, 55407.0, 1600341.0, 28894.0, 242424.0, 10412.0, 260627.0, 358157.0, 215484.0, 67404.0, 7259.0, 3491.0, 117011.0, 18415.0, 240236.0, 42981282.0, 29271952.0, 72.0, 83633.0, 5321176.0, 21858.0, 5720.0, 294540.0, 3154305.0, 91663.0, 313444.0, 155.0, 212307.0, 21460.0, 3710.0, 11762.0, 12885.0, 200259.0, 746802.0, 6286.0, 14788003.0, 1599763.0, 721.0, 2215445.0, 970987.0, 243238.0, 836883.0, 3857443.0, 43684.0, 531109.0, 683466.0, 338764.0, 151287.0, 100329.0, 255860.0, 91639.0, 110997.0, 508503.0, 10709.0, 2042.0, 171131.0, 2804.0, 232829.0, 64746.0, 31617.0, 33919.0, 372859.0, 26145.0, 12980.0, 29927.0, 18121.0, 1203.0, 2304096.0, 245494.0, 2395.0, 21995.0, 95377.0, 505447.0, 69134.0, 142619.0, 46515.0, 283658.0, 1419871.0, 2595.0, 6778.0, 5116.0, 164207.0, 36581414.0, 146733.0, 107144.0, 41560.0, 176668.0, 756285.0, 279753.0, 360597.0, 9343.0, 248364.0, 1697626.0, 926052.0, 2675874.0, 830560.0, 195757.0, 1027039.0, 4640537.0, 23866.0, 4401.0, 1819.0, 5026.0, 2275.0, 404054.0, 39731.0, 660299.0, 4875.0, 4020.0, 60808.0, 375336.0, 231593.0, 12837.0, 1565680.0, 23288379.0, 114115.0, 10432.0, 3407283.0, 96354.0, 33022.0, 9545.0, 900138.0, 632399.0, 21004.0, 1072.0, 13308.0, 509.0, 40585.0, 1236.0, 12496.0, 8806.0, 283976.0, 4212645.0, 41340.0, 1989160.0, 495224.0, 4401176.0, 31628013.0, 162400.0, 86338.0, 181903.0, 2781.0, 140719503.0, 5770.0, 90844.0, 37699.0], \"sizemode\": \"area\", \"sizeref\": 351798.7575, \"symbol\": \"circle\"}, \"mode\": \"markers\", \"name\": \"\", \"showlegend\": false, \"type\": \"scattergeo\"}],                        {\"geo\": {\"center\": {}, \"domain\": {\"x\": [0.0, 1.0], \"y\": [0.0, 1.0]}}, \"legend\": {\"itemsizing\": \"constant\", \"tracegroupgap\": 0}, \"margin\": {\"t\": 60}, \"template\": {\"data\": {\"bar\": [{\"error_x\": {\"color\": \"#2a3f5f\"}, \"error_y\": {\"color\": \"#2a3f5f\"}, \"marker\": {\"line\": {\"color\": \"#E5ECF6\", \"width\": 0.5}}, \"type\": \"bar\"}], \"barpolar\": [{\"marker\": {\"line\": {\"color\": \"#E5ECF6\", \"width\": 0.5}}, \"type\": \"barpolar\"}], \"carpet\": [{\"aaxis\": {\"endlinecolor\": \"#2a3f5f\", \"gridcolor\": \"white\", \"linecolor\": \"white\", \"minorgridcolor\": \"white\", \"startlinecolor\": \"#2a3f5f\"}, \"baxis\": {\"endlinecolor\": \"#2a3f5f\", \"gridcolor\": \"white\", \"linecolor\": \"white\", \"minorgridcolor\": \"white\", \"startlinecolor\": \"#2a3f5f\"}, \"type\": \"carpet\"}], \"choropleth\": [{\"colorbar\": {\"outlinewidth\": 0, \"ticks\": \"\"}, \"type\": \"choropleth\"}], \"contour\": [{\"colorbar\": {\"outlinewidth\": 0, \"ticks\": \"\"}, \"colorscale\": [[0.0, \"#0d0887\"], [0.1111111111111111, \"#46039f\"], [0.2222222222222222, \"#7201a8\"], [0.3333333333333333, \"#9c179e\"], [0.4444444444444444, \"#bd3786\"], [0.5555555555555556, \"#d8576b\"], [0.6666666666666666, \"#ed7953\"], [0.7777777777777778, \"#fb9f3a\"], [0.8888888888888888, \"#fdca26\"], [1.0, \"#f0f921\"]], \"type\": \"contour\"}], \"contourcarpet\": [{\"colorbar\": {\"outlinewidth\": 0, \"ticks\": \"\"}, \"type\": \"contourcarpet\"}], \"heatmap\": [{\"colorbar\": {\"outlinewidth\": 0, \"ticks\": \"\"}, \"colorscale\": [[0.0, \"#0d0887\"], [0.1111111111111111, \"#46039f\"], [0.2222222222222222, \"#7201a8\"], [0.3333333333333333, \"#9c179e\"], [0.4444444444444444, \"#bd3786\"], [0.5555555555555556, \"#d8576b\"], [0.6666666666666666, \"#ed7953\"], [0.7777777777777778, \"#fb9f3a\"], [0.8888888888888888, \"#fdca26\"], [1.0, \"#f0f921\"]], \"type\": \"heatmap\"}], \"heatmapgl\": [{\"colorbar\": {\"outlinewidth\": 0, \"ticks\": \"\"}, \"colorscale\": [[0.0, \"#0d0887\"], [0.1111111111111111, \"#46039f\"], [0.2222222222222222, \"#7201a8\"], [0.3333333333333333, \"#9c179e\"], [0.4444444444444444, \"#bd3786\"], [0.5555555555555556, \"#d8576b\"], [0.6666666666666666, \"#ed7953\"], [0.7777777777777778, \"#fb9f3a\"], [0.8888888888888888, \"#fdca26\"], [1.0, \"#f0f921\"]], \"type\": \"heatmapgl\"}], \"histogram\": [{\"marker\": {\"colorbar\": {\"outlinewidth\": 0, \"ticks\": \"\"}}, \"type\": \"histogram\"}], \"histogram2d\": [{\"colorbar\": {\"outlinewidth\": 0, \"ticks\": \"\"}, \"colorscale\": [[0.0, \"#0d0887\"], [0.1111111111111111, \"#46039f\"], [0.2222222222222222, \"#7201a8\"], [0.3333333333333333, \"#9c179e\"], [0.4444444444444444, \"#bd3786\"], [0.5555555555555556, \"#d8576b\"], [0.6666666666666666, \"#ed7953\"], [0.7777777777777778, \"#fb9f3a\"], [0.8888888888888888, \"#fdca26\"], [1.0, \"#f0f921\"]], \"type\": \"histogram2d\"}], \"histogram2dcontour\": [{\"colorbar\": {\"outlinewidth\": 0, \"ticks\": \"\"}, \"colorscale\": [[0.0, \"#0d0887\"], [0.1111111111111111, \"#46039f\"], [0.2222222222222222, \"#7201a8\"], [0.3333333333333333, \"#9c179e\"], [0.4444444444444444, \"#bd3786\"], [0.5555555555555556, \"#d8576b\"], [0.6666666666666666, \"#ed7953\"], [0.7777777777777778, \"#fb9f3a\"], [0.8888888888888888, \"#fdca26\"], [1.0, \"#f0f921\"]], \"type\": \"histogram2dcontour\"}], \"mesh3d\": [{\"colorbar\": {\"outlinewidth\": 0, \"ticks\": \"\"}, \"type\": \"mesh3d\"}], \"parcoords\": [{\"line\": {\"colorbar\": {\"outlinewidth\": 0, \"ticks\": \"\"}}, \"type\": \"parcoords\"}], \"pie\": [{\"automargin\": true, \"type\": \"pie\"}], \"scatter\": [{\"marker\": {\"colorbar\": {\"outlinewidth\": 0, \"ticks\": \"\"}}, \"type\": \"scatter\"}], \"scatter3d\": [{\"line\": {\"colorbar\": {\"outlinewidth\": 0, \"ticks\": \"\"}}, \"marker\": {\"colorbar\": {\"outlinewidth\": 0, \"ticks\": \"\"}}, \"type\": \"scatter3d\"}], \"scattercarpet\": [{\"marker\": {\"colorbar\": {\"outlinewidth\": 0, \"ticks\": \"\"}}, \"type\": \"scattercarpet\"}], \"scattergeo\": [{\"marker\": {\"colorbar\": {\"outlinewidth\": 0, \"ticks\": \"\"}}, \"type\": \"scattergeo\"}], \"scattergl\": [{\"marker\": {\"colorbar\": {\"outlinewidth\": 0, \"ticks\": \"\"}}, \"type\": \"scattergl\"}], \"scattermapbox\": [{\"marker\": {\"colorbar\": {\"outlinewidth\": 0, \"ticks\": \"\"}}, \"type\": \"scattermapbox\"}], \"scatterpolar\": [{\"marker\": {\"colorbar\": {\"outlinewidth\": 0, \"ticks\": \"\"}}, \"type\": \"scatterpolar\"}], \"scatterpolargl\": [{\"marker\": {\"colorbar\": {\"outlinewidth\": 0, \"ticks\": \"\"}}, \"type\": \"scatterpolargl\"}], \"scatterternary\": [{\"marker\": {\"colorbar\": {\"outlinewidth\": 0, \"ticks\": \"\"}}, \"type\": \"scatterternary\"}], \"surface\": [{\"colorbar\": {\"outlinewidth\": 0, \"ticks\": \"\"}, \"colorscale\": [[0.0, \"#0d0887\"], [0.1111111111111111, \"#46039f\"], [0.2222222222222222, \"#7201a8\"], [0.3333333333333333, \"#9c179e\"], [0.4444444444444444, \"#bd3786\"], [0.5555555555555556, \"#d8576b\"], [0.6666666666666666, \"#ed7953\"], [0.7777777777777778, \"#fb9f3a\"], [0.8888888888888888, \"#fdca26\"], [1.0, \"#f0f921\"]], \"type\": \"surface\"}], \"table\": [{\"cells\": {\"fill\": {\"color\": \"#EBF0F8\"}, \"line\": {\"color\": \"white\"}}, \"header\": {\"fill\": {\"color\": \"#C8D4E3\"}, \"line\": {\"color\": \"white\"}}, \"type\": \"table\"}]}, \"layout\": {\"annotationdefaults\": {\"arrowcolor\": \"#2a3f5f\", \"arrowhead\": 0, \"arrowwidth\": 1}, \"autotypenumbers\": \"strict\", \"coloraxis\": {\"colorbar\": {\"outlinewidth\": 0, \"ticks\": \"\"}}, \"colorscale\": {\"diverging\": [[0, \"#8e0152\"], [0.1, \"#c51b7d\"], [0.2, \"#de77ae\"], [0.3, \"#f1b6da\"], [0.4, \"#fde0ef\"], [0.5, \"#f7f7f7\"], [0.6, \"#e6f5d0\"], [0.7, \"#b8e186\"], [0.8, \"#7fbc41\"], [0.9, \"#4d9221\"], [1, \"#276419\"]], \"sequential\": [[0.0, \"#0d0887\"], [0.1111111111111111, \"#46039f\"], [0.2222222222222222, \"#7201a8\"], [0.3333333333333333, \"#9c179e\"], [0.4444444444444444, \"#bd3786\"], [0.5555555555555556, \"#d8576b\"], [0.6666666666666666, \"#ed7953\"], [0.7777777777777778, \"#fb9f3a\"], [0.8888888888888888, \"#fdca26\"], [1.0, \"#f0f921\"]], \"sequentialminus\": [[0.0, \"#0d0887\"], [0.1111111111111111, \"#46039f\"], [0.2222222222222222, \"#7201a8\"], [0.3333333333333333, \"#9c179e\"], [0.4444444444444444, \"#bd3786\"], [0.5555555555555556, \"#d8576b\"], [0.6666666666666666, \"#ed7953\"], [0.7777777777777778, \"#fb9f3a\"], [0.8888888888888888, \"#fdca26\"], [1.0, \"#f0f921\"]]}, \"colorway\": [\"#636efa\", \"#EF553B\", \"#00cc96\", \"#ab63fa\", \"#FFA15A\", \"#19d3f3\", \"#FF6692\", \"#B6E880\", \"#FF97FF\", \"#FECB52\"], \"font\": {\"color\": \"#2a3f5f\"}, \"geo\": {\"bgcolor\": \"white\", \"lakecolor\": \"white\", \"landcolor\": \"#E5ECF6\", \"showlakes\": true, \"showland\": true, \"subunitcolor\": \"white\"}, \"hoverlabel\": {\"align\": \"left\"}, \"hovermode\": \"closest\", \"mapbox\": {\"style\": \"light\"}, \"paper_bgcolor\": \"white\", \"plot_bgcolor\": \"#E5ECF6\", \"polar\": {\"angularaxis\": {\"gridcolor\": \"white\", \"linecolor\": \"white\", \"ticks\": \"\"}, \"bgcolor\": \"#E5ECF6\", \"radialaxis\": {\"gridcolor\": \"white\", \"linecolor\": \"white\", \"ticks\": \"\"}}, \"scene\": {\"xaxis\": {\"backgroundcolor\": \"#E5ECF6\", \"gridcolor\": \"white\", \"gridwidth\": 2, \"linecolor\": \"white\", \"showbackground\": true, \"ticks\": \"\", \"zerolinecolor\": \"white\"}, \"yaxis\": {\"backgroundcolor\": \"#E5ECF6\", \"gridcolor\": \"white\", \"gridwidth\": 2, \"linecolor\": \"white\", \"showbackground\": true, \"ticks\": \"\", \"zerolinecolor\": \"white\"}, \"zaxis\": {\"backgroundcolor\": \"#E5ECF6\", \"gridcolor\": \"white\", \"gridwidth\": 2, \"linecolor\": \"white\", \"showbackground\": true, \"ticks\": \"\", \"zerolinecolor\": \"white\"}}, \"shapedefaults\": {\"line\": {\"color\": \"#2a3f5f\"}}, \"ternary\": {\"aaxis\": {\"gridcolor\": \"white\", \"linecolor\": \"white\", \"ticks\": \"\"}, \"baxis\": {\"gridcolor\": \"white\", \"linecolor\": \"white\", \"ticks\": \"\"}, \"bgcolor\": \"#E5ECF6\", \"caxis\": {\"gridcolor\": \"white\", \"linecolor\": \"white\", \"ticks\": \"\"}}, \"title\": {\"x\": 0.05}, \"xaxis\": {\"automargin\": true, \"gridcolor\": \"white\", \"linecolor\": \"white\", \"ticks\": \"\", \"title\": {\"standoff\": 15}, \"zerolinecolor\": \"white\", \"zerolinewidth\": 2}, \"yaxis\": {\"automargin\": true, \"gridcolor\": \"white\", \"linecolor\": \"white\", \"ticks\": \"\", \"title\": {\"standoff\": 15}, \"zerolinecolor\": \"white\", \"zerolinewidth\": 2}}}},                        {\"responsive\": true}                    ).then(function(){\n",
       "                            \n",
       "var gd = document.getElementById('1229d70d-372b-494a-b0b1-a3a228f78b2d');\n",
       "var x = new MutationObserver(function (mutations, observer) {{\n",
       "        var display = window.getComputedStyle(gd).display;\n",
       "        if (!display || display === 'none') {{\n",
       "            console.log([gd, 'removed!']);\n",
       "            Plotly.purge(gd);\n",
       "            observer.disconnect();\n",
       "        }}\n",
       "}});\n",
       "\n",
       "// Listen for the removal of the full notebook cells\n",
       "var notebookContainer = gd.closest('#notebook-container');\n",
       "if (notebookContainer) {{\n",
       "    x.observe(notebookContainer, {childList: true});\n",
       "}}\n",
       "\n",
       "// Listen for the clearing of the current output cell\n",
       "var outputEl = gd.closest('.output');\n",
       "if (outputEl) {{\n",
       "    x.observe(outputEl, {childList: true});\n",
       "}}\n",
       "\n",
       "                        })                };                });            </script>        </div>"
      ]
     },
     "metadata": {},
     "output_type": "display_data"
    }
   ],
   "source": [
    "fig = px.scatter_geo(df, locations=\"iso_code\",\n",
    "                     size=\"total_cases\", # size of markers, \"pop\" is one of the columns of gapminder\n",
    "                     )\n",
    "fig.show()"
   ]
  },
  {
   "cell_type": "code",
   "execution_count": null,
   "id": "funky-sight",
   "metadata": {},
   "outputs": [],
   "source": []
  },
  {
   "cell_type": "code",
   "execution_count": null,
   "id": "instant-beatles",
   "metadata": {},
   "outputs": [],
   "source": []
  }
 ],
 "metadata": {
  "kernelspec": {
   "display_name": "Python 3",
   "language": "python",
   "name": "python3"
  },
  "language_info": {
   "codemirror_mode": {
    "name": "ipython",
    "version": 3
   },
   "file_extension": ".py",
   "mimetype": "text/x-python",
   "name": "python",
   "nbconvert_exporter": "python",
   "pygments_lexer": "ipython3",
   "version": "3.8.2"
  }
 },
 "nbformat": 4,
 "nbformat_minor": 5
}
